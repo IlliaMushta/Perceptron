{
  "nbformat": 4,
  "nbformat_minor": 0,
  "metadata": {
    "colab": {
      "name": "Perceptron.ipynb",
      "provenance": [],
      "collapsed_sections": [],
      "authorship_tag": "ABX9TyOkWkAOmmQZRrkO/yRhyUvj",
      "include_colab_link": true
    },
    "kernelspec": {
      "name": "python3",
      "display_name": "Python 3"
    },
    "language_info": {
      "name": "python"
    }
  },
  "cells": [
    {
      "cell_type": "markdown",
      "metadata": {
        "id": "view-in-github",
        "colab_type": "text"
      },
      "source": [
        "<a href=\"https://colab.research.google.com/github/IlliaMushta/Perceptron/blob/main/Perceptron.ipynb\" target=\"_parent\"><img src=\"https://colab.research.google.com/assets/colab-badge.svg\" alt=\"Open In Colab\"/></a>"
      ]
    },
    {
      "cell_type": "code",
      "metadata": {
        "id": "2lCyk22coP_r"
      },
      "source": [
        "import tensorflow.compat.v1 as tf\n",
        "import numpy as np\n",
        "import random\n",
        "import matplotlib.pyplot as plt\n",
        "tf.compat.v1.disable_eager_execution()"
      ],
      "execution_count": 1,
      "outputs": []
    },
    {
      "cell_type": "code",
      "metadata": {
        "colab": {
          "base_uri": "https://localhost:8080/",
          "height": 286
        },
        "id": "_xk-iVO7o1M5",
        "outputId": "6426284c-0a01-44d9-d74f-116079acdea6"
      },
      "source": [
        "x = np.random.rand(150)*50\n",
        "y = np.random.rand(150)*50\n",
        "\n",
        "data = list(zip(x,y))\n",
        "\n",
        "for i, elem in enumerate(data):\n",
        "    data[i] = np.array(data[i])\n",
        "    if (elem[0] + elem[1] <= 30):\n",
        "        data[i] = np.append(data[i],np.array((1.0,0.0), dtype=np.float32))\n",
        "    elif (elem[0] + elem[1] > 30 and 2*elem[0] + elem[1] <= 80):\n",
        "        data[i] = np.append(data[i],np.array((1.0,1.0), dtype=np.float32))\n",
        "    elif (2*elem[0] + elem[1] > 80):\n",
        "        data[i] = np.append(data[i],np.array((0.0,1.0), dtype=np.float32))\n",
        "random.shuffle(data)\n",
        "data = np.array(data,dtype=np.float32)\n",
        "\n",
        "fig = plt.figure()\n",
        "ax1 = fig.add_subplot(111)\n",
        "ax1.scatter(x, y, c='y')\n",
        "\n",
        "x0 = np.linspace(0, 50, 100)\n",
        "div1y = 30 - x0\n",
        "div2y = 80 - 2*x0\n",
        "ax1.plot(x0,div1y,'m')\n",
        "ax1.plot(x0,div2y,'c')\n",
        "ax1.set_ylim(0,50)\n",
        "plt.show()\n",
        "\n",
        "x_train = data[:,:2]\n",
        "y_train = data[:,2:4]\n",
        "\n",
        "x_train = x_train.astype(\"float32\")\n",
        "\n",
        "print(x_train.shape,y_train.shape)"
      ],
      "execution_count": 2,
      "outputs": [
        {
          "output_type": "display_data",
          "data": {
            "image/png": "[encoded data removed]",
            "text/plain": [
              "<Figure size 432x288 with 1 Axes>"
            ]
          },
          "metadata": {
            "needs_background": "light"
          }
        },
        {
          "output_type": "stream",
          "name": "stdout",
          "text": [
            "(150, 2) (150, 2)\n"
          ]
        }
      ]
    },
    {
      "cell_type": "code",
      "metadata": {
        "id": "frJxYbRvo4lW"
      },
      "source": [
        "sess =tf.Session()\n",
        " \n",
        "x_ = tf.placeholder(name=\"input\", shape=[None, 2], dtype=tf.float32)\n",
        "y_ = tf.placeholder(name= \"output\", shape=[None, 2], dtype=tf.float32)\n",
        " \n",
        "w = tf.Variable(tf.random_normal(shape=[2, 2]))\n",
        "b = tf.Variable(tf.constant(value=0.0, shape=[2], dtype=tf.float32))\n",
        "nn_output = tf.nn.sigmoid(tf.add(tf.matmul(x_, w), b))\n",
        " \n",
        "gd = tf.train.AdamOptimizer(0.001)\n",
        "loss =  tf.reduce_mean(tf.square(nn_output- y_))+ 0.85* tf.nn.l2_loss(w) + 0.15* tf.reduce_mean(tf.abs(w))\n",
        "train_step = gd.minimize(loss)\n",
        "init = tf.global_variables_initializer()\n",
        "sess.run(init)\n",
        "\n",
        "for _ in range(40000):\n",
        "    sess.run(train_step, feed_dict={x_:x_train, y_:y_train})"
      ],
      "execution_count": 4,
      "outputs": []
    },
    {
      "cell_type": "code",
      "metadata": {
        "colab": {
          "base_uri": "https://localhost:8080/"
        },
        "id": "FY9klHgIqIY8",
        "outputId": "b65933d5-00b8-43ea-f32a-431c01cad864"
      },
      "source": [
        "weights = sess.run(w)\n",
        "print(weights)"
      ],
      "execution_count": 5,
      "outputs": [
        {
          "output_type": "stream",
          "name": "stdout",
          "text": [
            "[[-0.13497353  0.08482892]\n",
            " [-0.05210221  0.09435122]]\n"
          ]
        }
      ]
    },
    {
      "cell_type": "code",
      "metadata": {
        "colab": {
          "base_uri": "https://localhost:8080/"
        },
        "id": "ALw1gJ-BswoB",
        "outputId": "56940500-834d-4440-e969-b37c493c2905"
      },
      "source": [
        "bias = sess.run(b)\n",
        "print(bias)"
      ],
      "execution_count": 6,
      "outputs": [
        {
          "output_type": "stream",
          "name": "stdout",
          "text": [
            "[ 4.835469 -2.4523  ]\n"
          ]
        }
      ]
    },
    {
      "cell_type": "code",
      "metadata": {
        "colab": {
          "base_uri": "https://localhost:8080/",
          "height": 269
        },
        "id": "ikMmR73UqKyr",
        "outputId": "914d99a2-0017-4d84-fa56-566cac26716d"
      },
      "source": [
        "w1_1 = weights[0][0]\n",
        "w2_1 = weights[0][1]\n",
        "w1_2 = weights[1][0]\n",
        "w2_2 = weights[1][1]\n",
        "b1 = bias[0]\n",
        "b2 = bias[1]\n",
        "\n",
        "fig = plt.figure()\n",
        "ax1 = fig.add_subplot(111)\n",
        "ax1.scatter(x, y,c='y')\n",
        "\n",
        "x0 = np.linspace(0,50,100)\n",
        "y_p1 = (-b1 - w1_1*x0)/w1_2\n",
        "y_p2 = (-b2 - w2_1*x0)/w2_2\n",
        "div1y = 30 - x0\n",
        "div2y = 80 - 2*x0\n",
        "ax1.plot(x0,div1y,'m')\n",
        "ax1.plot(x0,div2y,'c')\n",
        "ax1.plot(x0,y_p1,'#A2142F')\n",
        "ax1.plot(x0,y_p2,'#D95319')\n",
        "ax1.set_ylim(0,50)\n",
        "plt.show()"
      ],
      "execution_count": 7,
      "outputs": [
        {
          "output_type": "display_data",
          "data": {
            "image/png": "[encoded data removed]",
            "text/plain": [
              "<Figure size 432x288 with 1 Axes>"
            ]
          },
          "metadata": {
            "needs_background": "light"
          }
        }
      ]
    },
    {
      "cell_type": "code",
      "metadata": {
        "id": "MO36zG85tHzI"
      },
      "source": [
        ""
      ],
      "execution_count": null,
      "outputs": []
    }
  ]
}